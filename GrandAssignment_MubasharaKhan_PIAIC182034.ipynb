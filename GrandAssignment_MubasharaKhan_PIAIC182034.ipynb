{
  "cells": [
    {
      "cell_type": "markdown",
      "metadata": {},
      "source": [
        "**Grand Assignment**"
      ]
    },
    {
      "cell_type": "markdown",
      "metadata": {},
      "source": [
        "**Student Name: Mubashara Khan**    **Roll-No: PIAIC182034**"
      ]
    },
    {
      "cell_type": "markdown",
      "metadata": {
        "id": "yoFPv_Hcb3Iv"
      },
      "source": [
        "***Variables and Strings***"
      ]
    },
    {
      "cell_type": "markdown",
      "metadata": {
        "id": "XLAWmJh_b9vr"
      },
      "source": [
        "*1.**Simple Message:** Assign a message to a variable, and then print that\n",
        "message.* "
      ]
    },
    {
      "cell_type": "code",
      "execution_count": 23,
      "metadata": {
        "id": "Xu9FoVk1aKtu"
      },
      "outputs": [
        {
          "name": "stdout",
          "output_type": "stream",
          "text": [
            "Student Name: Mubashara Khan\n",
            "Roll-No: PIAIC182034\n"
          ]
        }
      ],
      "source": [
        "Name = \"Student Name: Mubashara Khan\"\n",
        "ID = \"Roll-No: PIAIC182034\"\n",
        "print(Name)\n",
        "print(ID)"
      ]
    },
    {
      "cell_type": "markdown",
      "metadata": {
        "id": "Ckp41qGzcMhY"
      },
      "source": [
        "2.Find a quote from a famous person you admire. Print the\n",
        "quote and the name of its author. Your output should look something like the\n",
        "following, including the quotation marks:\n",
        "\n",
        "**Albert Einstein once said, “A person who never made a\n",
        "mistake never tried anything new.”**\n"
      ]
    },
    {
      "cell_type": "code",
      "execution_count": null,
      "metadata": {
        "id": "RAOYKTZDc9l5"
      },
      "outputs": [
        {
          "name": "stdout",
          "output_type": "stream",
          "text": [
            "Imran khan once said, \"Compromise for your Dream but NEVER Compromise on your Dream.\"\n"
          ]
        }
      ],
      "source": [
        "Quote= \"Compromise for your Dream but NEVER Compromise on your Dream.\"\n",
        "f_person = \"Imran khan\"\n",
        "print (f\"{f_person} once said, \\\"{Quote}\\\"\")"
      ]
    },
    {
      "cell_type": "markdown",
      "metadata": {
        "id": "5dsWBIrAduRU"
      },
      "source": [
        "*3. Use a variable to represent your favorite number. Then,\n",
        "using that variable, create a message that reveals your favorite number. Print\n",
        "that message*"
      ]
    },
    {
      "cell_type": "code",
      "execution_count": null,
      "metadata": {
        "id": "n5bKUt2Xdxet"
      },
      "outputs": [
        {
          "name": "stdout",
          "output_type": "stream",
          "text": [
            "My favourite number is: 24\n"
          ]
        }
      ],
      "source": [
        "m = 24\n",
        "print (\"My favourite number is:\",m)"
      ]
    },
    {
      "cell_type": "markdown",
      "metadata": {
        "id": "03-7JmJFh1gu"
      },
      "source": [
        "4. **Calculate Area of a Circle::**\n",
        "\n",
        "Write a Python program which accepts the radius of a circle from the user and compute the area.\n",
        "\n",
        "Program Console Sample Output 1:\n",
        "\n",
        "Input Radius: 0.5\n",
        "\n",
        "Area of Circle with radius 0.5 is 0.7853981634"
      ]
    },
    {
      "cell_type": "code",
      "execution_count": 4,
      "metadata": {
        "id": "ZQqUhli7iD8V"
      },
      "outputs": [
        {
          "name": "stdout",
          "output_type": "stream",
          "text": [
            "Area of Circle with radius 0.5 is 3.14\n"
          ]
        }
      ],
      "source": [
        "pi = 3.14\n",
        "radius_circle = float(input(\"Input Radius: \"))\n",
        "Area_circle =(pi*(radius_circle*2))\n",
        "print(\"Area of Circle with radius \" + str(radius_circle) + \" is \" + str(Area_circle))"
      ]
    },
    {
      "cell_type": "markdown",
      "metadata": {
        "id": "_52LUHoriEdK"
      },
      "source": [
        "5. **Check Number either positive, negative or zero::**\n",
        "\n",
        "Write a Python program to check if a number is positive, \n",
        "\n",
        "negative or zero\n",
        "\n",
        "Program Console Sample Output 1:\n",
        "\n",
        "Enter Number: -1\n",
        "\n",
        "Negative Number Entered\n",
        "\n",
        "Program Console Sample Output 2:\n",
        "\n",
        "Integer: 3\n",
        "\n",
        "Positive Number Entered\n",
        "\n",
        "Program Console Sample Output 3:\n",
        "\n",
        "Integer: 0\n",
        "\n",
        "Zero Entered"
      ]
    },
    {
      "cell_type": "code",
      "execution_count": 8,
      "metadata": {
        "id": "_yLJAc80iXk0"
      },
      "outputs": [
        {
          "name": "stdout",
          "output_type": "stream",
          "text": [
            "Entered number: 9\n",
            "Positive Number Entered.\n"
          ]
        }
      ],
      "source": [
        "check_num= int(input(\"Enter any number: \"))\n",
        "print (\"Entered number:\",check_num)\n",
        "if check_num == 0:\n",
        "    print (\"Zero Entered.\")\n",
        "    \n",
        "elif check_num > 0:\n",
        "    print (\"Positive Number Entered.\")\n",
        "    \n",
        "else:\n",
        "    print (\"Negative Number Entered.\")"
      ]
    },
    {
      "cell_type": "markdown",
      "metadata": {
        "id": "vjXA6uhpiYQX"
      },
      "source": [
        "6. **Vowel Tester**\n",
        "Write a Python program to test whether a passed letter is a vowel or not\n",
        "\n",
        "Program Console Output 1:\n",
        "\n",
        "Enter a character: A\n",
        "\n",
        "Letter A is Vowel\n",
        "\n",
        "Program Console Output 2:\n",
        "\n",
        "Enter a character: e\n",
        "\n",
        "Letter e is Vowel\n",
        "\n",
        "Program Console Output 2:\n",
        "\n",
        "Enter a character: N\n",
        "\n",
        "Letter N is not Vowel."
      ]
    },
    {
      "cell_type": "code",
      "execution_count": 10,
      "metadata": {
        "id": "L62zqtG1jEb9"
      },
      "outputs": [
        {
          "name": "stdout",
          "output_type": "stream",
          "text": [
            "Letter y is NOT vowel.\n"
          ]
        }
      ],
      "source": [
        "vowels = [\"A\",\"E\",\"I\",\"O\",\"U\",\"a\",\"e\",\"i\",\"o\",\"u\"]\n",
        "vowel_tester = input(\"Enter any alphabet: \")\n",
        "\n",
        "if vowel_tester in vowels:\n",
        "    print (f\"Letter {vowel_tester} is vowel.\")\n",
        "else:\n",
        "    print (f\"Letter {vowel_tester} is NOT vowel.\")\n",
        "        "
      ]
    },
    {
      "cell_type": "markdown",
      "metadata": {
        "id": "qZIGjsnDjFdk"
      },
      "source": [
        "7. **BMI Calculator**\n",
        "\n",
        "Write a Python program to calculate body mass index\n",
        "Program Console Sample 1:\n",
        "\n",
        "Enter Height in Cm: 180\n",
        "\n",
        "Enter Weight in Kg: 75\n",
        "\n",
        "Your BMI is 23.15"
      ]
    },
    {
      "cell_type": "code",
      "execution_count": 11,
      "metadata": {
        "id": "lE-JyyTnjcJU"
      },
      "outputs": [
        {
          "name": "stdout",
          "output_type": "stream",
          "text": [
            "Your BMI is 23.148148148148145\n"
          ]
        }
      ],
      "source": [
        "h = float(input(\"Enter Height in Cm: \"))\n",
        "w = float(input(\"Enter Weight in Kg: \"))\n",
        "\n",
        "BMI_check = w/(h/100)**2\n",
        "print(\"Your BMI is\",BMI_check)"
      ]
    },
    {
      "cell_type": "markdown",
      "metadata": {
        "id": "11fYzZYid3qq"
      },
      "source": [
        "**List::**"
      ]
    },
    {
      "cell_type": "markdown",
      "metadata": {
        "id": "oUNnrKdyeOks"
      },
      "source": [
        "8. **Store the names of a few of your friends in a list called names**\n",
        "\n",
        " Print each person’s name by accessing each element in the list, one at a time."
      ]
    },
    {
      "cell_type": "code",
      "execution_count": 12,
      "metadata": {
        "id": "RY49qmHQeOGB"
      },
      "outputs": [
        {
          "name": "stdout",
          "output_type": "stream",
          "text": [
            "Seen Batman Shamz Mush Khushi Gpa\n"
          ]
        }
      ],
      "source": [
        "f_name = [\"Seen\", \"Batman\", \"Shamz\", \"Mush\",\"Khushi\",\"Gpa\"]\n",
        "print (f_name[0],f_name[1],f_name[2],f_name[3],f_name[4],f_name[5])"
      ]
    },
    {
      "cell_type": "markdown",
      "metadata": {
        "id": "HQe4CmBLd0a0"
      },
      "source": [
        "9. Start with the list you used in Question 4, but instead of just  printing each person’s name, print a message to them. The text of each message should be the same, but each message should be personalized with the\n",
        "person’s name."
      ]
    },
    {
      "cell_type": "code",
      "execution_count": 13,
      "metadata": {
        "id": "QfaA6SZieroG"
      },
      "outputs": [
        {
          "name": "stdout",
          "output_type": "stream",
          "text": [
            "Congratulations Seen, you have passed the test.\n",
            "Congratulations Batman, you have passed the test.\n",
            "Congratulations Shamz, you have passed the test.\n",
            "Congratulations Mush, you have passed the test.\n",
            "Congratulations Khushi, you have passed the test.\n",
            "Congratulations Gpa, you have passed the test.\n"
          ]
        }
      ],
      "source": [
        "for msg in f_name:\n",
        "    print (f\"Congratulations {msg}, you have passed the test.\")"
      ]
    },
    {
      "cell_type": "markdown",
      "metadata": {
        "id": "3t-zoTSTesyI"
      },
      "source": [
        " 10.**Make a python program that conatains your nine favourite dishes in a list called foods.**\n",
        "Print the message, The first three items in the list are:\n",
        "\n",
        "Then use a slice to print the first three items from that program’s list.\n",
        "\n",
        "Print the message, Three items from the middle of the list are:\n",
        "\n",
        "Use a slice to print three items from the middle of the list.\n",
        "\n",
        "Print the message, The last three items in the list are:\n",
        "\n",
        "Use a slice to print the last three items in the list."
      ]
    },
    {
      "cell_type": "code",
      "execution_count": 16,
      "metadata": {
        "id": "ZpnPQbgAmQhu"
      },
      "outputs": [
        {
          "name": "stdout",
          "output_type": "stream",
          "text": [
            "Dishes:  ['Alfredo Pasta', 'Fries', 'Burger', 'Spagetti', 'Chicken Steak', 'Sandwiches', 'Beef Steak', 'Noodles', 'Cheese Rolls']\n",
            "\n",
            "First three items in the list are:  ['Alfredo Pasta', 'Fries', 'Burger']\n",
            "\n",
            "Three items from the middle of the list are:  ['Spagetti', 'Chicken Steak', 'Sandwiches']\n",
            "\n",
            "The last three items in the list are:  ['Beef Steak', 'Noodles', 'Cheese Rolls']\n"
          ]
        }
      ],
      "source": [
        "foods = [\"Alfredo Pasta\",\"Fries\",\"Burger\",\"Spagetti\",\"Chicken Steak\",\"Sandwiches\",\"Beef Steak\",\"Noodles\",\"Cheese Rolls\"]\n",
        "print (\"Dishes: \",foods)\n",
        "print()\n",
        "#first three items with slice\n",
        "print (\"First three items in the list are: \",foods[:3])\n",
        "print()\n",
        "# 3 items from middle \n",
        "print (\"Three items from the middle of the list are: \",foods[3:6])\n",
        "print()\n",
        "# last 3 items in the list\n",
        "print (\"The last three items in the list are: \",foods[6:])"
      ]
    },
    {
      "cell_type": "markdown",
      "metadata": {
        "id": "h37WaaZKmRMe"
      },
      "source": [
        "11. **Start with your program from your last Question8.**\n",
        "Make a copy of the list of foods, and call it friend_foods.\n",
        "Then, do the following:\n",
        "\n",
        "Add a new dish to the original list.\n",
        "\n",
        "Add a different dish to the list friend_foods.\n",
        "\n",
        "Prove that you have two separate lists.\n",
        "\n",
        "Print the message, My favorite pizzas are: and then use a for loop to print the first list.\n",
        "\n",
        "Print the message,\n",
        "\n",
        "My friend’s favorite foods are:, and then use a for loop to print the second list.\n",
        "\n",
        "NOTE: Make sure each new dish is stored in the appropriate list."
      ]
    },
    {
      "cell_type": "code",
      "execution_count": 22,
      "metadata": {
        "id": "6FvxV2CioBQB"
      },
      "outputs": [
        {
          "name": "stdout",
          "output_type": "stream",
          "text": [
            "My Food List:  ['Alfredo Pasta', 'Fries', 'Burger', 'Spagetti', 'Chicken Steak', 'Sandwiches', 'Beef Steak', 'Noodles', 'Cheese Rolls']\n",
            "\n",
            "Friend's Food List:  ['Alfredo Pasta', 'Fries', 'Burger', 'Spagetti', 'Chicken Steak', 'Sandwiches', 'Beef Steak', 'Noodles', 'Cheese Rolls', 'Zinger Rolls']\n",
            "\n",
            "False\n",
            "my favorite foods are:  Alfredo Pasta\n",
            "my favorite foods are:  Fries\n",
            "my favorite foods are:  Burger\n",
            "my favorite foods are:  Spagetti\n",
            "my favorite foods are:  Chicken Steak\n",
            "my favorite foods are:  Sandwiches\n",
            "my favorite foods are:  Beef Steak\n",
            "my favorite foods are:  Noodles\n",
            "my favorite foods are:  Cheese Rolls\n",
            "\n",
            "my friend's favorite foods are:  Alfredo Pasta\n",
            "my friend's favorite foods are:  Fries\n",
            "my friend's favorite foods are:  Burger\n",
            "my friend's favorite foods are:  Spagetti\n",
            "my friend's favorite foods are:  Chicken Steak\n",
            "my friend's favorite foods are:  Sandwiches\n",
            "my friend's favorite foods are:  Beef Steak\n",
            "my friend's favorite foods are:  Noodles\n",
            "my friend's favorite foods are:  Cheese Rolls\n",
            "my friend's favorite foods are:  Zinger Rolls\n"
          ]
        }
      ],
      "source": [
        "friend_foods = []\n",
        "for food in foods:\n",
        "    friend_foods.append(food)\n",
        "\n",
        "# deleting new appended value incase of already added\n",
        "if \"Cheese Rolls\" in foods:\n",
        "    foods.remove(\"Cheese Rolls\")\n",
        "    \n",
        "# appending new values in both list\n",
        "foods.append(\"Cheese Rolls\")\n",
        "friend_foods.append(\"Zinger Rolls\")\n",
        "\n",
        "print (\"My Food List: \",foods)\n",
        "print()\n",
        "print (\"Friend's Food List: \",friend_foods)\n",
        "print()\n",
        "\n",
        "#checking both list are equal or not.\n",
        "print (foods == friend_foods)\n",
        "\n",
        "# for 2 separate food lists\n",
        "for f in foods:\n",
        "    print (\"my favorite foods are: \",f)\n",
        "print()\n",
        "    \n",
        "for frnd_f in friend_foods:\n",
        "    print (\"my friend's favorite foods are: \",frnd_f)"
      ]
    }
  ],
  "metadata": {
    "colab": {
      "collapsed_sections": [],
      "name": "Assignment.ipynb",
      "provenance": []
    },
    "kernelspec": {
      "display_name": "Python 3.9.0 64-bit",
      "language": "python",
      "name": "python3"
    },
    "language_info": {
      "codemirror_mode": {
        "name": "ipython",
        "version": 3
      },
      "file_extension": ".py",
      "mimetype": "text/x-python",
      "name": "python",
      "nbconvert_exporter": "python",
      "pygments_lexer": "ipython3",
      "version": "3.9.0"
    },
    "vscode": {
      "interpreter": {
        "hash": "f6246b25e200e4c5124e3e61789ac81350562f0761bbcf92ad9e48654207659c"
      }
    }
  },
  "nbformat": 4,
  "nbformat_minor": 0
}
